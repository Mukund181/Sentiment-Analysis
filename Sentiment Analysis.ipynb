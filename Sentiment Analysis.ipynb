{
 "cells": [
  {
   "cell_type": "code",
   "execution_count": 2,
   "id": "a3bccf0a-9ed8-4bf4-b3cf-3290accee4ae",
   "metadata": {},
   "outputs": [],
   "source": [
    "# Importing necessary libraries\n",
    "import tensorflow as tf\n",
    "from transformers import BertTokenizer, TFBertForSequenceClassification\n",
    "from sklearn.preprocessing import LabelEncoder\n",
    "import numpy as np\n",
    "import pandas as pd\n",
    "import warnings"
   ]
  },
  {
   "cell_type": "code",
   "execution_count": 4,
   "id": "c4f91133-ce67-4304-8c44-43d26bac79e8",
   "metadata": {},
   "outputs": [
    {
     "name": "stderr",
     "output_type": "stream",
     "text": [
      "All PyTorch model weights were used when initializing TFBertForSequenceClassification.\n",
      "\n",
      "Some weights or buffers of the TF 2.0 model TFBertForSequenceClassification were not initialized from the PyTorch model and are newly initialized: ['classifier.weight', 'classifier.bias']\n",
      "You should probably TRAIN this model on a down-stream task to be able to use it for predictions and inference.\n"
     ]
    }
   ],
   "source": [
    "# Ignore warnings\n",
    "warnings.filterwarnings(\"ignore\")\n",
    "\n",
    "# Load the BERT tokenizer and model\n",
    "tokenizer = BertTokenizer.from_pretrained('bert-base-uncased')\n",
    "model = TFBertForSequenceClassification.from_pretrained('bert-base-uncased')"
   ]
  },
  {
   "cell_type": "code",
   "execution_count": 5,
   "id": "44caf1da-97f5-4f79-875d-2b4920fdc208",
   "metadata": {},
   "outputs": [],
   "source": [
    "# Function to preprocess and predict sentiment\n",
    "def predict_sentiment(texts):\n",
    "    # Tokenize the input texts\n",
    "    inputs = tokenizer(texts, return_tensors='tf', padding=True, truncation=True, max_length=512)\n",
    "\n",
    "    # Make predictions\n",
    "    predictions = model(inputs)[0]\n",
    "    \n",
    "    # Use argmax to get the sentiment prediction\n",
    "    sentiment_predictions = np.argmax(predictions, axis=1)\n",
    "\n",
    "    # Map sentiment values to labels\n",
    "    sentiment_labels = [\"Negative\", \"Neutral\", \"Positive\"]\n",
    "\n",
    "    return [sentiment_labels[pred] for pred in sentiment_predictions]"
   ]
  },
  {
   "cell_type": "code",
   "execution_count": 6,
   "id": "ae3e8f5a-eb7f-418b-96f2-5ae10185a281",
   "metadata": {},
   "outputs": [
    {
     "name": "stdin",
     "output_type": "stream",
     "text": [
      "Please enter a social media post or text:  I am sad\n"
     ]
    },
    {
     "name": "stdout",
     "output_type": "stream",
     "text": [
      "Entered Text: I am sad\n",
      "Predicted Sentiment: Negative\n"
     ]
    }
   ],
   "source": [
    "# Get input from user\n",
    "user_input = input(\"Please enter a social media post or text: \")\n",
    "\n",
    "# Predict sentiment for the entered text\n",
    "predicted_sentiment = predict_sentiment([user_input])\n",
    "\n",
    "# Output the predicted sentiment\n",
    "print(f\"Entered Text: {user_input}\\nPredicted Sentiment: {predicted_sentiment[0]}\")"
   ]
  },
  {
   "cell_type": "code",
   "execution_count": null,
   "id": "f6c8d671-1c4a-414e-9d83-a88f98d3c700",
   "metadata": {},
   "outputs": [],
   "source": []
  }
 ],
 "metadata": {
  "kernelspec": {
   "display_name": "Python 3 (ipykernel)",
   "language": "python",
   "name": "python3"
  },
  "language_info": {
   "codemirror_mode": {
    "name": "ipython",
    "version": 3
   },
   "file_extension": ".py",
   "mimetype": "text/x-python",
   "name": "python",
   "nbconvert_exporter": "python",
   "pygments_lexer": "ipython3",
   "version": "3.12.6"
  }
 },
 "nbformat": 4,
 "nbformat_minor": 5
}
